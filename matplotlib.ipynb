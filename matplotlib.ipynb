{
 "cells": [
  {
   "cell_type": "markdown",
   "metadata": {},
   "source": [
    "# Visualisation using\n",
    "\n",
    "![Matplotlib](http://upload.wikimedia.org/wikipedia/en/5/56/Matplotlib_logo.svg)"
   ]
  },
  {
   "cell_type": "markdown",
   "metadata": {},
   "source": [
    "# Table of Contents\n",
    "\n",
    "1. [Notebook Setup](#setup)\n",
    "2. [Simple Line Plots](#line_plots)\n",
    "    * [Using different styles for plots](#different_styles)\n",
    "    * [Setting x and y limits](#setting_limits)\n",
    "    * [Labeling plots](#plot_labels)\n",
    "        - [Label formatting](#label_formatting)\n",
    "        - [LaTeX labels](#latex_labels)\n",
    "    * [Legends](#legends)\n",
    "    * [Grids](#grids)\n",
    "    * [Axis scales](#axis_scales)\n",
    "    * [Ticks](#ticks)\n",
    "    * [Multiple lines in the same plot](#multiple_lines)\n",
    "    * [Multiple plots in the same figure](#multiple_plots)\n",
    "        - [Shared axes](#shared_axes)\n",
    "        - [Tight layout](#tight_layout)\n",
    "        - [Inset plots](#inset_plots)\n",
    "3. [Error bars](#error_bars)\n",
    "    * [Asymmetrical errors](#asym_errors)\n",
    "    * [Upper and lower limits](#upper_limits)\n",
    "4. [Polar plots](#polar_plots)\n",
    "5. [Histograms](#histograms)\n",
    "    * [1D Histograms](#hist1d)\n",
    "    * [2D Histograms](#hist2d)\n",
    "6. [Scatter Plots](#scatter)\n",
    "7. [Object-Oriented Syntax](#oo_syntax)\n",
    "8. [MJD Date axis](#mjd)\n",
    "9. [Plots for Publication](#publication_plots)\n",
    "    * [Plot styles](#plot_styles)\n",
    "    * [Saving figures](#save_figures)"
   ]
  },
  {
   "cell_type": "markdown",
   "metadata": {},
   "source": [
    "<a id=setup></a>\n",
    "# Notebook Setup (run me first!)"
   ]
  },
  {
   "cell_type": "markdown",
   "metadata": {},
   "source": [
    "First, we apply a \"magic command\" to make plots appear \"inline\" inside the notebook. Alternatively, we could allow plots to appear in a separate window."
   ]
  },
  {
   "cell_type": "code",
   "execution_count": 1,
   "metadata": {
    "scrolled": false
   },
   "outputs": [],
   "source": [
    "# only for the notebook\n",
    "%matplotlib inline\n",
    "# only in the ipython shell\n",
    "# %matplotlib"
   ]
  },
  {
   "cell_type": "markdown",
   "metadata": {},
   "source": [
    "In order to work with Matplotlib, the library must be imported first. So we do not have to type so much, we give it a shorter name:"
   ]
  },
  {
   "cell_type": "code",
   "execution_count": 2,
   "metadata": {
    "scrolled": false
   },
   "outputs": [],
   "source": [
    "import matplotlib.pyplot as plt"
   ]
  },
  {
   "cell_type": "code",
   "execution_count": 3,
   "metadata": {
    "scrolled": false
   },
   "outputs": [],
   "source": [
    "# Make the size and fonts larger for this presentation\n",
    "plt.rcParams['figure.figsize'] = (10, 8)\n",
    "plt.rcParams['font.size'] = 16\n",
    "plt.rcParams['lines.linewidth'] = 2"
   ]
  },
  {
   "cell_type": "markdown",
   "metadata": {},
   "source": [
    "Matplotlib works best with numpy arrays, so we import `numpy` as well"
   ]
  },
  {
   "cell_type": "code",
   "execution_count": 4,
   "metadata": {
    "scrolled": false
   },
   "outputs": [],
   "source": [
    "import numpy as np"
   ]
  },
  {
   "cell_type": "markdown",
   "metadata": {},
   "source": [
    "<a id=line_plots></a>\n",
    "# Simple Line Plots"
   ]
  },
  {
   "cell_type": "code",
   "execution_count": 5,
   "metadata": {
    "scrolled": false
   },
   "outputs": [
    {
     "data": {
      "text/plain": [
       "[<matplotlib.lines.Line2D at 0x7f1faf4f94e0>]"
      ]
     },
     "execution_count": 5,
     "metadata": {},
     "output_type": "execute_result"
    },
    {
     "data": {
      "image/png": "[encoded data removed]",
      "text/plain": [
       "<Figure size 720x576 with 1 Axes>"
      ]
     },
     "metadata": {},
     "output_type": "display_data"
    }
   ],
   "source": [
    "x = np.linspace(0, 1, 100) # 100 numbers from 0 to 1\n",
    "\n",
    "plt.plot(x, x**2)\n",
    "# If not interactive, e.g. in a script: \n",
    "# plt.show()"
   ]
  },
  {
   "cell_type": "markdown",
   "metadata": {},
   "source": [
    "#### <a id=different_styles></a>\n",
    "## Using different styles for plots"
   ]
  },
  {
   "cell_type": "code",
   "execution_count": null,
   "metadata": {
    "scrolled": false
   },
   "outputs": [],
   "source": [
    "t = np.linspace(0, 2 * np.pi)   # 50 points between 0 and 2π\n",
    "plt.plot(t, np.sin(t));"
   ]
  },
  {
   "cell_type": "code",
   "execution_count": null,
   "metadata": {
    "scrolled": false
   },
   "outputs": [],
   "source": [
    "plt.plot(t, np.sin(t), '--');"
   ]
  },
  {
   "cell_type": "code",
   "execution_count": null,
   "metadata": {
    "scrolled": false
   },
   "outputs": [],
   "source": [
    "plt.plot(t, np.sin(t), 'go')\n",
    "# plt.plot(t, np.sin(t), color='green', marker='o', linestyle='');   # same thing!"
   ]
  },
  {
   "cell_type": "code",
   "execution_count": null,
   "metadata": {},
   "outputs": [],
   "source": [
    "# new in matplotlib 2.0, all colors of the color rotation available as C<N>\n",
    "x = np.linspace(0, 1, 100)\n",
    "for n in range(9):\n",
    "    plt.plot(x**(n + 1), color='C{}'.format(n))"
   ]
  },
  {
   "cell_type": "markdown",
   "metadata": {},
   "source": [
    "All styles and colors: [matplotlib.axes.Axes.plot](http://matplotlib.org/api/_as_gen/matplotlib.axes.Axes.plot.html#matplotlib.axes.Axes.plot)\n",
    "\n"
   ]
  },
  {
   "cell_type": "markdown",
   "metadata": {},
   "source": [
    "<a id=setting_limits></a>\n",
    "### Setting x and y limits"
   ]
  },
  {
   "cell_type": "code",
   "execution_count": null,
   "metadata": {
    "scrolled": false
   },
   "outputs": [],
   "source": [
    "plt.plot(t, np.sin(t))\n",
    "plt.xlim(0, 2*np.pi)\n",
    "plt.ylim(-1.2, 1.2);"
   ]
  },
  {
   "cell_type": "markdown",
   "metadata": {},
   "source": [
    "<a id=plot_labels></a>\n",
    "## We are still lacking something important\n",
    "![XKCD comic on why you should label your axes.](http://imgs.xkcd.com/comics/convincing.png \"And if you labeled your axes, I could tell you exactly how MUCH better.\")\n"
   ]
  },
  {
   "cell_type": "code",
   "execution_count": null,
   "metadata": {
    "scrolled": false
   },
   "outputs": [],
   "source": [
    "with plt.xkcd():\n",
    "    plt.title('Axes with labels')\n",
    "    plt.plot(t, np.sin(t))\n",
    "    plt.xlabel('t / s')\n",
    "    plt.ylabel('U / V')\n",
    "    plt.ylim(-1.1, 1.1)\n",
    "    plt.xlim(0, 2*np.pi)"
   ]
  },
  {
   "cell_type": "markdown",
   "metadata": {},
   "source": [
    "### A side note on units\n",
    "\n",
    "\n",
    "Contrary to some customs in HEP or Astronomy, the BiPM has strict rules on how to typeset quantities, numbers and units in table headers and axis labels:\n",
    "\n",
    "> Symbols for units are treated as mathematical entities. In expressing the value of a\n",
    "quantity as the product of a numerical value and a unit, both the numerical value and\n",
    "the unit may be treated by the ordinary rules of algebra.\n",
    "It is often convenient to\n",
    "write the quotient of a quantity and a unit in this way for the heading of a column in a\n",
    "table, so that the entries in the table are all simply numbers. [...]\n",
    "The axes of a graph may also be labelled in this way, so that the tick marks are\n",
    "labelled only with numbers\n",
    "\n",
    "\n",
    "[Bureau International des Poids et Measures,  The International System of Units, Chapter 5, Section 3](http://www.bipm.org/utils/common/pdf/si_brochure_8_en.pdf)\n",
    "\n",
    "A physical quantity is always a product of a number and a unit, so what is shown, is the quantity divided by the unit.\n",
    "\n",
    "Especially square brackets have a totally different meaning and are highly problematic if it comes to mathematical operations on quantities like $\\log(E / 1\\,\\mathrm{GeV})$"
   ]
  },
  {
   "cell_type": "markdown",
   "metadata": {},
   "source": [
    "<a id=label_formatting></a>\n",
    "### Label formatting\n",
    "\n",
    "These options can be set globally in a matplotlibrc file,\n",
    "see https://matplotlib.org/users/customizing.html"
   ]
  },
  {
   "cell_type": "code",
   "execution_count": null,
   "metadata": {
    "scrolled": false
   },
   "outputs": [],
   "source": [
    "plt.plot(t, np.sin(t))\n",
    "\n",
    "title_font = {'fontsize': 24, 'fontweight': 'bold', 'family': 'serif'}\n",
    "axes_font = {'fontsize': 18, 'fontstyle': 'italic'}\n",
    "\n",
    "plt.xlabel('t / s', axes_font)\n",
    "plt.ylabel('U / V', axes_font)\n",
    "plt.title('Always label your plots!', title_font);"
   ]
  },
  {
   "cell_type": "markdown",
   "metadata": {},
   "source": [
    "<a id=latex_labels></a>\n",
    "### Matplotlib can handle a rather complete subset of LaTeX in any text"
   ]
  },
  {
   "cell_type": "code",
   "execution_count": null,
   "metadata": {
    "scrolled": false
   },
   "outputs": [],
   "source": [
    "plt.plot(t, np.sin(t))\n",
    "plt.xlabel(r'$t / \\mathrm{s}$')   # leading r means \"raw\", so that '\\' is handled correctly\n",
    "plt.ylabel(r\"$\\int_0^t \\cos(t') \\, \\mathrm{d}t'$\");"
   ]
  },
  {
   "cell_type": "markdown",
   "metadata": {},
   "source": [
    "<a id=legends></a>\n",
    "## Legends"
   ]
  },
  {
   "cell_type": "markdown",
   "metadata": {},
   "source": [
    "Matplotlib can create legends automatically for plot objects that have a label."
   ]
  },
  {
   "cell_type": "code",
   "execution_count": null,
   "metadata": {
    "scrolled": false
   },
   "outputs": [],
   "source": [
    "plt.plot(t, np.sin(t), label=r'$\\sin(t)$')\n",
    "plt.plot(t, np.cos(t), label=r'$\\cos(t)$')\n",
    "plt.legend()\n",
    "#plt.legend(loc='upper center')\n",
    "\n",
    "None # only to avoid cluttering the notebook"
   ]
  },
  {
   "cell_type": "markdown",
   "metadata": {},
   "source": [
    "<a id=grids></a>\n",
    "## Grids"
   ]
  },
  {
   "cell_type": "code",
   "execution_count": null,
   "metadata": {
    "scrolled": false
   },
   "outputs": [],
   "source": [
    "plt.plot(t, np.sin(t))\n",
    "plt.grid()"
   ]
  },
  {
   "cell_type": "markdown",
   "metadata": {},
   "source": [
    "<a id=axis_scales></a>\n",
    "## Axis-Scales"
   ]
  },
  {
   "cell_type": "code",
   "execution_count": null,
   "metadata": {
    "scrolled": false
   },
   "outputs": [],
   "source": [
    "x = np.linspace(0, 10)\n",
    "# x = np.logspace(-1, 2, 100)\n",
    "\n",
    "plt.plot(x, np.exp(-x))\n",
    "plt.yscale('log')\n",
    "# plt.xscale('log')"
   ]
  },
  {
   "cell_type": "markdown",
   "metadata": {},
   "source": [
    "<a id=ticks></a>\n",
    "## Ticks"
   ]
  },
  {
   "cell_type": "code",
   "execution_count": null,
   "metadata": {
    "scrolled": false
   },
   "outputs": [],
   "source": [
    "x = np.linspace(0, 2*np.pi)\n",
    "\n",
    "plt.plot(x, np.sin(x))\n",
    "plt.xlim(0, 2*np.pi)\n",
    "# First argument: position, second argument: labels\n",
    "plt.xticks(\n",
    "    np.arange(0, 2*np.pi + 0.1, np.pi/2),\n",
    "    [r\"$0$\", r\"$\\frac{1}{4}\\tau$\", r\"$\\frac{1}{2}\\tau$\", r\"$\\frac{3}{4}\\tau$\", r\"$\\tau$\"]\n",
    ")\n",
    "plt.title(r\"$\\tau$ FTW!\")   # https://tauday.com/tau-manifesto\n",
    "None"
   ]
  },
  {
   "cell_type": "code",
   "execution_count": null,
   "metadata": {
    "scrolled": false
   },
   "outputs": [],
   "source": [
    "months = ['January',\n",
    "          'February',\n",
    "          'March',\n",
    "          'April',\n",
    "          'May',\n",
    "          'June',\n",
    "          'July',\n",
    "          'August',\n",
    "          'September',\n",
    "          'October',\n",
    "          'November',\n",
    "          'December']\n",
    "\n",
    "plt.bar(np.arange(12), np.random.rand(12))\n",
    "plt.xticks(\n",
    "    np.arange(12),\n",
    "    months,\n",
    "    rotation=45,\n",
    "    rotation_mode='anchor',\n",
    "    horizontalalignment='right',  # or ha\n",
    "    verticalalignment='top',      # or va\n",
    ");"
   ]
  },
  {
   "cell_type": "markdown",
   "metadata": {},
   "source": [
    "<a id=multiple_lines></a>\n",
    "## Multiple lines in the same plot"
   ]
  },
  {
   "cell_type": "code",
   "execution_count": null,
   "metadata": {
    "scrolled": false
   },
   "outputs": [],
   "source": [
    "x = np.linspace(0, 1)\n",
    "\n",
    "plt.plot(x, x**2, label=r'$x^2$')\n",
    "plt.plot(x, x**4)\n",
    "plt.plot(x, x**6, 'o', label=r'$x^6$')\n",
    "\n",
    "plt.legend(loc='best');"
   ]
  },
  {
   "cell_type": "markdown",
   "metadata": {},
   "source": [
    "**Remember**: Legend entries are only generated for plot objects that have a label (note x⁴ is missing)!"
   ]
  },
  {
   "cell_type": "markdown",
   "metadata": {},
   "source": [
    "<a id=multiple_plots></a>\n",
    "## Multiple plots in the same figure"
   ]
  },
  {
   "cell_type": "code",
   "execution_count": null,
   "metadata": {
    "scrolled": false
   },
   "outputs": [],
   "source": [
    "x = np.linspace(0, 2*np.pi)\n",
    "\n",
    "# subplot arguments: # of rows, # of columns, plot index (row * (#cols) + col)\n",
    "plt.subplot(2, 1, 1)\n",
    "plt.plot(x, x**2)\n",
    "plt.xlim(0, 2*np.pi)\n",
    "\n",
    "plt.subplot(2, 1, 2)\n",
    "plt.plot(x, np.sin(x))\n",
    "plt.xlim(0, 2*np.pi);"
   ]
  },
  {
   "cell_type": "markdown",
   "metadata": {},
   "source": [
    "<a id=shared_axes></a>\n",
    "### Shared Axes"
   ]
  },
  {
   "cell_type": "code",
   "execution_count": null,
   "metadata": {},
   "outputs": [],
   "source": [
    "def poisson(x, k):\n",
    "    return np.exp(-x)*x**k / np.math.factorial(k)\n",
    "\n",
    "x = np.linspace(0, 12, 40)\n",
    "y = poisson(x, 2)\n",
    "y_noise = y + np.random.normal(0, 0.01, len(y))\n",
    "z = np.linspace(0, 12, 100)\n",
    "\n",
    "gridspec = {'height_ratios': [2, 1]}\n",
    "fig, (ax1, ax2) = plt.subplots(2, sharex=True, gridspec_kw=gridspec)\n",
    "\n",
    "ax1.plot(x, y_noise, 'ko')\n",
    "ax1.plot(z, poisson(z, 2))\n",
    "ax1.set_ylim(-0.05, 0.30)\n",
    "ax1.set_ylabel('Flux')\n",
    "ax1.set_yticks(ax1.get_yticks()[1:])    # remove bottom y-tick\n",
    "\n",
    "ax2.plot(x, y_noise - y, 'ko')\n",
    "ax2.axhline(y=0, color='black', linestyle='--', linewidth=1)\n",
    "ax2.set_xlabel('Energy')\n",
    "ax2.set_ylim(-0.03, 0.04)\n",
    "ax2.set_ylabel('Residuals')\n",
    "ax2.set_yticks(ax2.get_yticks()[:-2])   # remove top y-tick\n",
    "\n",
    "fig.subplots_adjust(hspace=0)\n",
    "fig.suptitle('\\nFake Spectrum', fontweight='bold');"
   ]
  },
  {
   "cell_type": "markdown",
   "metadata": {},
   "source": [
    "<a id=tight_layout></a>\n",
    "### You should almost always call `plt.tight_layout()`"
   ]
  },
  {
   "cell_type": "code",
   "execution_count": null,
   "metadata": {
    "scrolled": false
   },
   "outputs": [],
   "source": [
    "x = np.linspace(0, 2*np.pi)\n",
    "\n",
    "plt.subplot(2, 1, 1)\n",
    "plt.plot(x, x**2)\n",
    "plt.xlim(0, 2*np.pi)\n",
    "plt.title(r\"$f(x)=x^2$\")\n",
    "\n",
    "plt.subplot(2, 1, 2)\n",
    "plt.plot(x, np.sin(x))\n",
    "plt.xlim(0, 2*np.pi)\n",
    "plt.title(r\"$f(x)=\\sin(x)$\")\n",
    "\n",
    "plt.tight_layout()   # try commenting this line out!"
   ]
  },
  {
   "cell_type": "markdown",
   "metadata": {},
   "source": [
    "<a id=inset_plots></a>\n",
    "### Inset Plots (plot inside a plot)"
   ]
  },
  {
   "cell_type": "code",
   "execution_count": null,
   "metadata": {
    "scrolled": false
   },
   "outputs": [],
   "source": [
    "plt.plot(x, x**2)\n",
    "plt.title(\"Outer Plot\")\n",
    "\n",
    "# axes coordinates: (0,0) is lower left, (1,1) upper right\n",
    "plt.axes([0.2, 0.45, 0.3, 0.3])\n",
    "plt.plot(x, x**3)\n",
    "plt.title(\"Inner Plot\");"
   ]
  },
  {
   "cell_type": "markdown",
   "metadata": {},
   "source": [
    "<a id=error_bars></a>\n",
    "# Error bars"
   ]
  },
  {
   "cell_type": "code",
   "execution_count": null,
   "metadata": {
    "scrolled": false
   },
   "outputs": [],
   "source": [
    "x = np.linspace(0, 2*np.pi, 10)\n",
    "errX = np.random.normal(0, 0.4, 10)\n",
    "errY = np.random.normal(0, 0.4, 10)\n",
    "\n",
    "plt.errorbar(x + errX, x + errY, xerr=0.4, yerr=errY, fmt='o');"
   ]
  },
  {
   "cell_type": "markdown",
   "metadata": {},
   "source": [
    "<a id=asym_errors></a>\n",
    "## Asymmetrical errors\n",
    "\n",
    "Give 2 arrays to the `xerr` or `yerr` kwargs:\n"
   ]
  },
  {
   "cell_type": "code",
   "execution_count": null,
   "metadata": {},
   "outputs": [],
   "source": [
    "x = np.linspace(0, 1, 10)\n",
    "plt.errorbar(\n",
    "    x, \n",
    "    np.sin(2 * np.pi * x),\n",
    "    yerr=[np.full_like(x, 0.5), np.full_like(x, 0.1)],\n",
    "    linestyle='',\n",
    "    marker='o',\n",
    ")"
   ]
  },
  {
   "cell_type": "markdown",
   "metadata": {},
   "source": [
    "<a id=upper_limits></a>\n",
    "## Upper and lower limits\n",
    "\n",
    "\n",
    "Often, we want to give uncertainties for some values, but upper or lower limits for others."
   ]
  },
  {
   "cell_type": "code",
   "execution_count": null,
   "metadata": {},
   "outputs": [],
   "source": [
    "bins = np.logspace(2, 4, 15)\n",
    "x = (bins[:-1] + bins[1:]) / 2\n",
    "\n",
    "y = x**(-2.7)\n",
    "yerr = y * 0.3\n",
    "y += np.random.normal(0, yerr)\n",
    "\n",
    "# mask for which points are upper limits\n",
    "uplims = np.full_like(x, False)\n",
    "\n",
    "# last points are only upper limits\n",
    "y[-3:] += 3 * y[-3:]\n",
    "yerr[-3:] = 0.3 * y[-3:] # yerr determines length of limit arrow\n",
    "uplims[-3:] = True \n",
    "\n",
    "plt.errorbar(\n",
    "    x,\n",
    "    y,\n",
    "    xerr=np.diff(bins/2),\n",
    "    yerr=yerr,\n",
    "    uplims=uplims,\n",
    "    ls='none',\n",
    ")\n",
    "\n",
    "plt.xlabel('$E \\ / \\ \\mathrm{GeV}$')\n",
    "plt.ylabel('$Flux \\ / \\ \\mathrm{GeV}^{-1} \\mathrm{s}^{-1} \\mathrm{m}^{-2} \\mathrm{sr}^{-1}$')\n",
    "plt.xscale('log')\n",
    "plt.yscale('log')"
   ]
  },
  {
   "cell_type": "markdown",
   "metadata": {},
   "source": [
    "<a id=polar_plots></a>\n",
    "# Polar Plots"
   ]
  },
  {
   "cell_type": "code",
   "execution_count": null,
   "metadata": {
    "scrolled": false
   },
   "outputs": [],
   "source": [
    "r = np.linspace(0, 10, 50)\n",
    "# r = np.linspace(0, 10, 1000)\n",
    "theta = 2*np.pi*r\n",
    "\n",
    "plt.polar(theta, r);"
   ]
  },
  {
   "cell_type": "markdown",
   "metadata": {},
   "source": [
    "<a id=histograms></a>\n",
    "# Histograms"
   ]
  },
  {
   "cell_type": "markdown",
   "metadata": {},
   "source": [
    "<a id=hist1d></a>\n",
    "## 1D Histograms"
   ]
  },
  {
   "cell_type": "code",
   "execution_count": null,
   "metadata": {
    "scrolled": false
   },
   "outputs": [],
   "source": [
    "# Generate random data:\n",
    "x = np.random.normal(0, 1, 1000)\n",
    "plt.hist(x, bins=25);"
   ]
  },
  {
   "cell_type": "code",
   "execution_count": null,
   "metadata": {
    "scrolled": false
   },
   "outputs": [],
   "source": [
    "x1 = np.random.normal(-1, 1, 1000)\n",
    "x2 = np.random.normal(1, 1, 1000)\n",
    "\n",
    "bin_edges = np.linspace(-6, 6, 51)  # 50 bins between -6 and 6\n",
    "\n",
    "plt.hist(x1, bins=bin_edges, histtype='step', label='x1')\n",
    "plt.hist(x2, bins=bin_edges, histtype='step', label='x2')\n",
    "\n",
    "plt.legend();"
   ]
  },
  {
   "cell_type": "markdown",
   "metadata": {},
   "source": [
    "<a id=hist2d></a>\n",
    "## 2D Histograms"
   ]
  },
  {
   "cell_type": "code",
   "execution_count": null,
   "metadata": {
    "scrolled": false
   },
   "outputs": [],
   "source": [
    "mean = [2, 1]\n",
    "cov = [[9, 2],\n",
    "       [2, 4]]\n",
    "\n",
    "x, y = np.random.multivariate_normal(mean, cov, size=10000).T\n",
    "\n",
    "plt.hist2d(x, y)\n",
    "# plt.hist2d(x, y, bins=50)\n",
    "# plt.hist2d(x, y, bins=[25, 50], range=[[-10, 14], [-5, 7]])\n",
    "\n",
    "plt.colorbar(label='Counts');"
   ]
  },
  {
   "cell_type": "code",
   "execution_count": null,
   "metadata": {
    "scrolled": false
   },
   "outputs": [],
   "source": [
    "from matplotlib.colors import LogNorm\n",
    "\n",
    "plt.hist2d(x, y, bins=50, norm=LogNorm())\n",
    "\n",
    "plt.colorbar();"
   ]
  },
  {
   "cell_type": "markdown",
   "metadata": {},
   "source": [
    "### Colormaps\n",
    "\n",
    "* Can influence perception greatly\n",
    "* Physicists most loved colormaps (rainbow, jet) objectively bad\n",
    "    * Do not work when printed black/white\n",
    "    * Not colorblind friendly\n",
    "    * Not perceptually uniform\n",
    "* Use the modern colormaps in matplotlib (available since 1.5)\n",
    "    * `viridis` (default in 2.0)\n",
    "    * `inferno`\n",
    "    * `magma`\n",
    "    * `plasma`\n",
    "* Use fitting colormaps: sequential vs. diverging\n",
    "\n",
    "More here: \n",
    "https://www.youtube.com/watch?v=xAoljeRJ3lU&t=6s"
   ]
  },
  {
   "cell_type": "markdown",
   "metadata": {},
   "source": [
    "<a id=\"scatter\"></a>\n",
    "# Scatter Plots"
   ]
  },
  {
   "cell_type": "code",
   "execution_count": null,
   "metadata": {
    "scrolled": false
   },
   "outputs": [],
   "source": [
    "x1, y1 = np.random.multivariate_normal([1, 1], [[1, 0], [0, 1]], 1000).T\n",
    "x2, y2 = np.random.multivariate_normal([-1, -1], [[1, 0], [0, 1]], 1000).T\n",
    "\n",
    "plt.scatter(x1, y1)\n",
    "plt.scatter(x2, y2);"
   ]
  },
  {
   "cell_type": "code",
   "execution_count": null,
   "metadata": {
    "scrolled": false
   },
   "outputs": [],
   "source": [
    "x = np.append(x1, x2)\n",
    "y = np.append(y1, y2)\n",
    "s = np.random.uniform(5, 50, 2000)\n",
    "label = np.append(np.ones_like(x1), np.zeros_like(x2))\n",
    "\n",
    "plt.scatter(x, y, c=label, s=s);"
   ]
  },
  {
   "cell_type": "markdown",
   "metadata": {},
   "source": [
    "<a id=oo_syntax></a>\n",
    "# Using the object orientated syntax\n",
    "\n",
    "Matplotlib has two APIs (yes, it's strange).\n",
    "\n",
    "* The matlab-like syntax we used until now:\n",
    "    * Easier to write\n",
    "    * Familiar for matlab users\n",
    "    * Frequently uses global states\n",
    "* Object-oriented syntax:\n",
    "    * More powerful\n",
    "    * More control over the plots\n",
    "    * Preferable for library code\n",
    "    * No (or at least very few) global states"
   ]
  },
  {
   "cell_type": "code",
   "execution_count": null,
   "metadata": {
    "scrolled": false
   },
   "outputs": [],
   "source": [
    "import matplotlib.pyplot as plt\n",
    "import numpy as np\n",
    "\n",
    "t = np.linspace(0, 2*np.pi, 1000)\n",
    "\n",
    "fig, (ax1, ax2) = plt.subplots(2, 1)\n",
    "\n",
    "# note that plot is now a method of ax1, not the global plt object\n",
    "ax1.plot(t, np.sin(t), 'r-')\n",
    "ax1.set_title(r\"$f(t)=\\sin(t)$\")   # use object-oriented get/set syntax\n",
    "ax1.set_xlabel(\"$t$\")\n",
    "ax1.set_xlim(0, 2*np.pi)\n",
    "ax1.set_ylim(-1.1, 1.1)\n",
    "\n",
    "ax2.plot(t, np.cos(t), 'b-')\n",
    "ax2.set_title(r\"$f(t)=\\cos(t)$\")\n",
    "ax2.set_xlabel(\"$t$\")\n",
    "ax2.set_xlim(0, 2*np.pi)\n",
    "ax2.set_ylim(-1.1, 1.1)\n",
    "\n",
    "fig.tight_layout()"
   ]
  },
  {
   "cell_type": "markdown",
   "metadata": {},
   "source": [
    "<a id=\"mjd\"></a>\n",
    "# Providing both MJD and human readable date axis\n",
    "\n",
    "* I am not able to convert MJD to normal date in my head\n",
    "* Your audience probably is also not able to do it\n",
    "* Solution: provide both a human readable and a MJD axis\n",
    "\n",
    "Matplotlib uses the ordinal date (days since 1.1.1) for internal datetime representation"
   ]
  },
  {
   "cell_type": "code",
   "execution_count": null,
   "metadata": {},
   "outputs": [],
   "source": [
    "from datetime import datetime, timedelta\n",
    "\n",
    "# constants for ordinal and mjd date representation\n",
    "MJD_EPOCH = datetime(1858, 11, 17)\n",
    "ORDINAL_EPOCH = datetime(1, 1, 1)\n",
    "\n",
    "\n",
    "def ordinal_to_mjd(ordinal):\n",
    "    ''' Converts ordinal date (days since 0001-01-01T00:00) to MJD (days since 1858-11-17T00:00)'''\n",
    "    return ordinal - (MJD_EPOCH - ORDINAL_EPOCH).total_seconds() / 86400\n",
    "\n",
    "\n",
    "# create some random \"Crab nebula\" data\n",
    "n_on = np.random.poisson(60, 25)\n",
    "n_off = np.random.poisson(30, 25)\n",
    "n_signal = n_on - 0.2 * n_off\n",
    "n_signal_err = np.sqrt(n_on + 0.2**2 * n_off)\n",
    "\n",
    "# create some dates\n",
    "dates = [datetime(2017, 1, 1) + timedelta(days=i) for i in range(25)]\n",
    "\n",
    "fig = plt.figure()\n",
    "ax = fig.add_subplot(1, 1, 1)\n",
    "\n",
    "ax.errorbar(dates, n_signal, yerr=n_signal_err, ls='')\n",
    "ax.axhline(n_signal.mean(), color='C1')\n",
    "\n",
    "ax.set_ylim(0, 80)\n",
    "ax.set_ylabel(r'Signal Rate / $\\mathrm{h}^{-1}$')\n",
    "\n",
    "\n",
    "fig.autofmt_xdate()\n",
    "\n",
    "# create a second axis, using the same y-axis\n",
    "ax_mjd = ax.twiny()\n",
    "# set its xlims to the same values of the date axis, but convert to mjd\n",
    "ax_mjd.set_xlim(*map(ordinal_to_mjd, ax.get_xlim()))\n",
    "ax_mjd.set_xlabel('MJD')\n",
    "\n",
    "fig.tight_layout()"
   ]
  },
  {
   "cell_type": "markdown",
   "metadata": {},
   "source": [
    "<a id=publication_plots></a>\n",
    "## Plots for Publication\n",
    "\n",
    "* Use fully blown LaTeX installation using the `pgf` backend\n",
    "* Same font and font sizes as in your publication\n",
    "* Really high quality, publication ready plots\n",
    "\n"
   ]
  },
  {
   "cell_type": "markdown",
   "metadata": {},
   "source": [
    "<a id=plot_styles></a>\n",
    "## Plot styles"
   ]
  },
  {
   "cell_type": "markdown",
   "metadata": {},
   "source": [
    "List available styles:"
   ]
  },
  {
   "cell_type": "code",
   "execution_count": null,
   "metadata": {},
   "outputs": [],
   "source": [
    "print(plt.style.available)"
   ]
  },
  {
   "cell_type": "code",
   "execution_count": null,
   "metadata": {
    "scrolled": false
   },
   "outputs": [],
   "source": [
    "from scipy import stats\n",
    "\n",
    "def plot_stuff():\n",
    "    plt.subplot(2, 2, 1)\n",
    "    x = np.linspace(-1, 1, 1000)\n",
    "    plt.plot(x, np.sin(50*x**3)/(x))\n",
    "    plt.grid()\n",
    "\n",
    "    plt.subplot(2, 2, 2)\n",
    "    x = np.linspace(-1, 1, 10)\n",
    "    y = np.exp(-2.2*x) + np.random.normal(0, 0.1, 10)\n",
    "    yerr = np.random.normal(0, 0.2, 10)\n",
    "    plt.errorbar(x, y, yerr, fmt='o', capsize=3)\n",
    "    plt.yscale('log')\n",
    "\n",
    "    plt.subplot(2, 2, 3)\n",
    "    x = stats.skewnorm.rvs(10, size=1000)\n",
    "    plt.hist(x, bins=50)\n",
    "\n",
    "    plt.subplot(2, 2, 4)\n",
    "    x, y = np.mgrid[-1:1:.01, -1:1:.01]\n",
    "    pos = np.dstack((x, y))\n",
    "    z = stats.multivariate_normal([0.1, 0.3], [[0.2, 0.3], [0.1, 0.4]])\n",
    "    plt.contourf(x, y, z.pdf(pos))\n",
    "\n",
    "for plot_style in ['classic', 'bmh', 'fivethirtyeight', 'ggplot', 'seaborn']:\n",
    "    plt.figure()\n",
    "    with plt.style.context(plot_style):   # use context manager so that changes are temporary\n",
    "        plot_stuff()\n",
    "        plt.suptitle('Plot Style: ' + plot_style, fontweight='bold')"
   ]
  },
  {
   "cell_type": "markdown",
   "metadata": {},
   "source": [
    "<a id=save_figures></a>\n",
    "## Saving figures\n",
    "\n",
    "Use `plt.savefig` to save your figure.\n",
    "\n",
    "You can either give path relative to your working directory or an absolute path.\n",
    "Not sure what the current working directory is?"
   ]
  },
  {
   "cell_type": "code",
   "execution_count": null,
   "metadata": {},
   "outputs": [],
   "source": [
    "pwd()"
   ]
  },
  {
   "cell_type": "code",
   "execution_count": null,
   "metadata": {},
   "outputs": [],
   "source": [
    "x = np.linspace(-5, 5)\n",
    "plt.plot(x, x**3, marker='s')\n",
    "plt.title(\"My Awesome Plot\")\n",
    "\n",
    "# save in current directory; extension determines file type\n",
    "plt.savefig('awesome_plot.pdf')\n",
    "plt.savefig('awesome_plot.eps')\n",
    "plt.savefig('awesome_plot.png', dpi=300)   # bitmap graphics; don't use me for publications!\n",
    "plt.savefig('awesome_plot.jpg', dpi=300)   # bitmap graphics; don't use me either!\n",
    "\n",
    "# relative path with subdirectory\n",
    "# plt.savefig('build/awesome_plot.pdf')\n",
    "\n",
    "# absolute path\n",
    "# plt.saveig('/path/to/output/directory/awesome_plot.pdf')"
   ]
  }
 ],
 "metadata": {
  "anaconda-cloud": {},
  "kernelspec": {
   "display_name": "Python 3",
   "language": "python",
   "name": "python3"
  },
  "language_info": {
   "codemirror_mode": {
    "name": "ipython",
    "version": 3
   },
   "file_extension": ".py",
   "mimetype": "text/x-python",
   "name": "python",
   "nbconvert_exporter": "python",
   "pygments_lexer": "ipython3",
   "version": "3.6.5"
  }
 },
 "nbformat": 4,
 "nbformat_minor": 1
}
